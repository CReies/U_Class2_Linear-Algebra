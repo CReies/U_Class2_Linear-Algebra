{
  "nbformat": 4,
  "nbformat_minor": 0,
  "metadata": {
    "colab": {
      "provenance": [],
      "toc_visible": true,
      "include_colab_link": true
    },
    "kernelspec": {
      "name": "python3",
      "display_name": "Python 3"
    },
    "language_info": {
      "name": "python"
    }
  },
  "cells": [
    {
      "cell_type": "markdown",
      "metadata": {
        "id": "view-in-github",
        "colab_type": "text"
      },
      "source": [
        "<a href=\"https://colab.research.google.com/github/CReies/U_Class2_Linear-Algebra/blob/main/Cuaderno_2_Tema_1b.ipynb\" target=\"_parent\"><img src=\"https://colab.research.google.com/assets/colab-badge.svg\" alt=\"Open In Colab\"/></a>"
      ]
    },
    {
      "cell_type": "markdown",
      "source": [
        "<font size=6 color=\"#0098CD\">\n",
        "Álgebra Lineal\n",
        "</font>\n",
        "<p></p>\n",
        "<font size=6>\n",
        "Tema 1b. Operaciones con matrices\n",
        "</font>\n"
      ],
      "metadata": {
        "id": "FCBdJuKrkxCT"
      }
    },
    {
      "cell_type": "code",
      "source": [
        "# Importar bibliotecas\n",
        "import numpy as np\n",
        "import sympy as sp"
      ],
      "metadata": {
        "id": "xL0ZlUdZch7C"
      },
      "execution_count": 1,
      "outputs": []
    },
    {
      "cell_type": "markdown",
      "source": [
        "### Matriz identidad"
      ],
      "metadata": {
        "id": "3bauUXnak8I2"
      }
    },
    {
      "cell_type": "markdown",
      "source": [
        "La matriz identidad, $I$, es una matriz cuadrada para la cual se cumple que $i_{ij} = 1$ si $i = j$ e $i_{ij} = 0$ si $i \\neq j$. A continuación se muestra cómo crear una matriz identidad con [NumPy](https://numpy.org/)."
      ],
      "metadata": {
        "id": "-zJJjo7mb-NT"
      }
    },
    {
      "cell_type": "code",
      "execution_count": 9,
      "metadata": {
        "id": "eYZchB6Dt3GJ",
        "outputId": "8aa11e28-285a-49d8-aa53-ad290b728460",
        "colab": {
          "base_uri": "https://localhost:8080/"
        }
      },
      "outputs": [
        {
          "name": "stdout",
          "output_type": "stream",
          "text": [
            "What order do you want the matrix in?\n",
            "6\n"
          ]
        },
        {
          "output_type": "execute_result",
          "data": {
            "text/plain": [
              "array([[1., 0., 0., 0., 0., 0.],\n",
              "       [0., 1., 0., 0., 0., 0.],\n",
              "       [0., 0., 1., 0., 0., 0.],\n",
              "       [0., 0., 0., 1., 0., 0.],\n",
              "       [0., 0., 0., 0., 1., 0.],\n",
              "       [0., 0., 0., 0., 0., 1.]])"
            ]
          },
          "metadata": {},
          "execution_count": 9
        }
      ],
      "source": [
        "n = int(input(\"What order do you want the matrix in?\\n\"))\n",
        "I = np.eye(n)\n",
        "\n",
        "print(I)"
      ]
    },
    {
      "cell_type": "markdown",
      "source": [
        "---\n",
        "#### Ejercicio 1\n",
        "---"
      ],
      "metadata": {
        "id": "8m3vpcXQmaht"
      }
    },
    {
      "cell_type": "markdown",
      "source": [
        ">Genera la matriz identidad de orden 6 usando [SymPy](https://www.sympy.org/es/)."
      ],
      "metadata": {
        "id": "nC5IP57LmldQ"
      }
    },
    {
      "cell_type": "code",
      "source": [
        "n = int(input(\"What order do you want the matrix in?\\n\"))\n",
        "I = sp.eye(n)\n",
        "\n",
        "I"
      ],
      "metadata": {
        "id": "_MzpbPy1mu3-",
        "outputId": "1a989ed2-a840-4926-afca-adeebf27d016",
        "colab": {
          "base_uri": "https://localhost:8080/",
          "height": 174
        }
      },
      "execution_count": 6,
      "outputs": [
        {
          "name": "stdout",
          "output_type": "stream",
          "text": [
            "What order do you want the matrix in?\n",
            "6\n"
          ]
        },
        {
          "output_type": "execute_result",
          "data": {
            "text/plain": [
              "Matrix([\n",
              "[1, 0, 0, 0, 0, 0],\n",
              "[0, 1, 0, 0, 0, 0],\n",
              "[0, 0, 1, 0, 0, 0],\n",
              "[0, 0, 0, 1, 0, 0],\n",
              "[0, 0, 0, 0, 1, 0],\n",
              "[0, 0, 0, 0, 0, 1]])"
            ],
            "text/latex": "$\\displaystyle \\left[\\begin{matrix}1 & 0 & 0 & 0 & 0 & 0\\\\0 & 1 & 0 & 0 & 0 & 0\\\\0 & 0 & 1 & 0 & 0 & 0\\\\0 & 0 & 0 & 1 & 0 & 0\\\\0 & 0 & 0 & 0 & 1 & 0\\\\0 & 0 & 0 & 0 & 0 & 1\\end{matrix}\\right]$"
          },
          "metadata": {},
          "execution_count": 6
        }
      ]
    },
    {
      "cell_type": "markdown",
      "source": [
        "---\n",
        "#### Ejercicio 2\n",
        "---"
      ],
      "metadata": {
        "id": "up_AxiVNeeNy"
      }
    },
    {
      "cell_type": "markdown",
      "source": [
        "Calcula $AI$ si\n",
        "$ A = \\begin{bmatrix}\n",
        "2  & 3 & 4 \\\\\n",
        "-1 & 4 & 0\n",
        "\\end{bmatrix}$. Usa NumPy."
      ],
      "metadata": {
        "id": "sV1shCOtel5d"
      }
    },
    {
      "cell_type": "code",
      "source": [
        "A = np.array([[2, 3, 4], [-1, 4, 0]])\n",
        "I3 = np.eye(3)\n",
        "\n",
        "print(np.matmul(A, I3))"
      ],
      "metadata": {
        "id": "DEK_oItdelXL",
        "outputId": "707172c0-c462-4299-e205-8cb195de7316",
        "colab": {
          "base_uri": "https://localhost:8080/"
        }
      },
      "execution_count": 11,
      "outputs": [
        {
          "output_type": "stream",
          "name": "stdout",
          "text": [
            "[[ 2.  3.  4.]\n",
            " [-1.  4.  0.]]\n"
          ]
        }
      ]
    },
    {
      "cell_type": "markdown",
      "source": [
        "---\n",
        "#### Ejercicio 3\n",
        "---"
      ],
      "metadata": {
        "id": "BvkKpjJEhpGQ"
      }
    },
    {
      "cell_type": "markdown",
      "source": [
        "Calcula $IA$ si\n",
        "$ A = \\begin{bmatrix}\n",
        "2  & 3 & 4 \\\\\n",
        "-1 & 4 & 0\n",
        "\\end{bmatrix}$. Usa SymPy."
      ],
      "metadata": {
        "id": "ikMotYT6hjzm"
      }
    },
    {
      "cell_type": "code",
      "source": [
        "A = sp.Matrix([[2, 3, 4], [-1, 4, 0]])\n",
        "I2 = sp.eye(2)\n",
        "\n",
        "print(I2 * A)"
      ],
      "metadata": {
        "id": "qaMCxZSpfdVb",
        "outputId": "9dc4e240-b535-422d-8503-d5d771d2a6d9",
        "colab": {
          "base_uri": "https://localhost:8080/"
        }
      },
      "execution_count": 13,
      "outputs": [
        {
          "output_type": "stream",
          "name": "stdout",
          "text": [
            "Matrix([[2, 3, 4], [-1, 4, 0]])\n"
          ]
        }
      ]
    },
    {
      "cell_type": "markdown",
      "source": [
        "### Matriz potencia"
      ],
      "metadata": {
        "id": "5AdURVA6iyeH"
      }
    },
    {
      "cell_type": "markdown",
      "source": [
        "$A^n = A \\cdot A \\cdot A ~...~ A$"
      ],
      "metadata": {
        "id": "WpWvIuLzkF-c"
      }
    },
    {
      "cell_type": "markdown",
      "source": [
        "---\n",
        "#### Ejercicio 4\n",
        "---"
      ],
      "metadata": {
        "id": "63JpdXGEkdBF"
      }
    },
    {
      "cell_type": "markdown",
      "source": [
        "Halla $A^3$ si\n",
        "$ A = \\begin{bmatrix}\n",
        "1  & 2 \\\\\n",
        "-3 & 0\n",
        "\\end{bmatrix}$. Realiza el cálculo en forma manual, luego con SymPy y finalmente con NumPy. Comenta los resultados."
      ],
      "metadata": {
        "id": "1joHdqEikfUP"
      }
    },
    {
      "cell_type": "markdown",
      "source": [
        "**Solución:**\n",
        "\n",
        "$A=\\begin{bmatrix}\n",
        "1 & 2\\\\\n",
        "-3 & 0\n",
        "\\end{bmatrix}$\n",
        "\n",
        "$A^3 = \\begin{bmatrix}\n",
        "1 & 2\\\\\n",
        "-3 & 0\n",
        "\\end{bmatrix} \\times \\begin{bmatrix}\n",
        "1 & 2\\\\\n",
        "-3 & 0\n",
        "\\end{bmatrix} \\times \\begin{bmatrix}\n",
        "1 & 2\\\\\n",
        "-3 & 0\n",
        "\\end{bmatrix} =\n",
        "\\begin{bmatrix}\n",
        "(1)(1)+\n",
        "\\end{bmatrix}\n",
        "$"
      ],
      "metadata": {
        "id": "84X6VS6IQ2jC"
      }
    },
    {
      "cell_type": "code",
      "source": [
        "A = np.array([[1, 2], [-3, 0]])\n",
        "\n",
        "print(np.matmul(A, np.matmul(A, A)))\n",
        "\n",
        "A = sp.Matrix([[1, 2], [-3, 0]])\n",
        "\n",
        "print(A**3)"
      ],
      "metadata": {
        "id": "xr2PWiUSi2Zy",
        "outputId": "22e463b3-0ef6-4b3f-e115-7628cf91a4af",
        "colab": {
          "base_uri": "https://localhost:8080/"
        }
      },
      "execution_count": 19,
      "outputs": [
        {
          "output_type": "stream",
          "name": "stdout",
          "text": [
            "[[-11 -10]\n",
            " [ 15  -6]]\n",
            "Matrix([[-11, -10], [15, -6]])\n"
          ]
        }
      ]
    },
    {
      "cell_type": "markdown",
      "source": [
        "### Matriz transpuesta"
      ],
      "metadata": {
        "id": "VAg6O89bmCMo"
      }
    },
    {
      "cell_type": "markdown",
      "source": [
        "---\n",
        "#### Ejercicio 5\n",
        "---"
      ],
      "metadata": {
        "id": "83ydVPtemFGM"
      }
    },
    {
      "cell_type": "markdown",
      "source": [
        "Consulta la definición de matriz transpuesta y agrégala en esta celda. Complementa la definición con un ejemplo."
      ],
      "metadata": {
        "id": "v-KAk6mCnO4l"
      }
    },
    {
      "cell_type": "markdown",
      "source": [
        "---\n",
        "#### Ejercicio 6\n",
        "---"
      ],
      "metadata": {
        "id": "GavdHJkfnee4"
      }
    },
    {
      "cell_type": "markdown",
      "source": [
        "Genera una matriz $A$ de orden $3 \\times 4$, con entradas enteras aleatorias en el intervalo $[-5, 10]$. Halla luego $A^T$."
      ],
      "metadata": {
        "id": "ciOQr0QUngWI"
      }
    },
    {
      "cell_type": "code",
      "source": [
        "A = np.random.randint(-5, 11, size=(50,200))\n",
        "AT =  np.transpose(A)\n",
        "\n",
        "print(A)\n",
        "print(AT)"
      ],
      "metadata": {
        "id": "i1RE8ImHlDAb",
        "outputId": "dc85441c-0e1b-4e72-ca4a-548a8bc0511d",
        "colab": {
          "base_uri": "https://localhost:8080/"
        }
      },
      "execution_count": 24,
      "outputs": [
        {
          "output_type": "stream",
          "name": "stdout",
          "text": [
            "[[10  8  2 ... -1 -3  8]\n",
            " [ 6 -1 -5 ... -1 -1  7]\n",
            " [-3  9 -1 ...  7 -1  2]\n",
            " ...\n",
            " [ 0  2  9 ...  0  9 -4]\n",
            " [-5 -2  9 ... -5 10  7]\n",
            " [ 5  8  6 ... -2  8  9]]\n",
            "[[10  6 -3 ...  0 -5  5]\n",
            " [ 8 -1  9 ...  2 -2  8]\n",
            " [ 2 -5 -1 ...  9  9  6]\n",
            " ...\n",
            " [-1 -1  7 ...  0 -5 -2]\n",
            " [-3 -1 -1 ...  9 10  8]\n",
            " [ 8  7  2 ... -4  7  9]]\n"
          ]
        }
      ]
    },
    {
      "cell_type": "markdown",
      "source": [
        "---\n",
        "#### Ejercicio 7\n",
        "---"
      ],
      "metadata": {
        "id": "MhH5YQTwsfl2"
      }
    },
    {
      "cell_type": "markdown",
      "source": [
        "Repite el ejercicio anterior usando el método ```seed()``` con el fin de comparar los resultados con tus compañeros."
      ],
      "metadata": {
        "id": "ktgJmgYVsh4W"
      }
    },
    {
      "cell_type": "code",
      "source": [],
      "metadata": {
        "id": "L4STsWwSruaU"
      },
      "execution_count": null,
      "outputs": []
    },
    {
      "cell_type": "markdown",
      "source": [
        "---\n",
        "#### Ejercicio 8\n",
        "---"
      ],
      "metadata": {
        "id": "puh5QPcntlRP"
      }
    },
    {
      "cell_type": "markdown",
      "source": [
        "Construye un ejemplo para mostrar que una matriz cuadrada es simétrica si $A^T = A$."
      ],
      "metadata": {
        "id": "hdvkEoPdtr1E"
      }
    },
    {
      "cell_type": "code",
      "source": [],
      "metadata": {
        "id": "-tRR406ftA-b"
      },
      "execution_count": null,
      "outputs": []
    },
    {
      "cell_type": "markdown",
      "source": [
        "### Matriz inversa"
      ],
      "metadata": {
        "id": "TYFvLZp3uiWt"
      }
    },
    {
      "cell_type": "markdown",
      "source": [
        "Dada una matriz cuadrada $A$, su matriz inversa $A^{-1}$ es aquella que cumple $AA^{-1} = A^{-1}A = I_n$. La matriz inversa no siempre existe, si existe es única."
      ],
      "metadata": {
        "id": "dG1IY8tmulMu"
      }
    },
    {
      "cell_type": "markdown",
      "source": [
        "---\n",
        "#### Ejercicio 9\n",
        "---"
      ],
      "metadata": {
        "id": "5YUdTqDru_pO"
      }
    },
    {
      "cell_type": "markdown",
      "source": [
        "Crea una matriz de orden $2 \\times 2$ y calcula la inversa en forma manual. Comprueba que $AA^{-1} = A^{-1}A = I_n$."
      ],
      "metadata": {
        "id": "IQkN8ftNvGU6"
      }
    },
    {
      "cell_type": "markdown",
      "source": [
        "**Solución:**"
      ],
      "metadata": {
        "id": "hacAMEDP5aNB"
      }
    },
    {
      "cell_type": "markdown",
      "source": [
        "---\n",
        "#### Ejercicio 10\n",
        "---"
      ],
      "metadata": {
        "id": "6REtXTwFxEeN"
      }
    },
    {
      "cell_type": "markdown",
      "source": [
        "Usa NumPy y SymPy para calcular la inversa de diferentes matrices cuadradas. ¿Qué respuesta se obtiene cuándo la inversa no existe?"
      ],
      "metadata": {
        "id": "2zWkrx51xINm"
      }
    },
    {
      "cell_type": "code",
      "source": [],
      "metadata": {
        "id": "rsXjH1g3ukql"
      },
      "execution_count": null,
      "outputs": []
    },
    {
      "cell_type": "markdown",
      "source": [
        "### Determinante"
      ],
      "metadata": {
        "id": "v25sAbe0xhjq"
      }
    },
    {
      "cell_type": "markdown",
      "source": [
        "Una matriz es invertible si, y solo si, su determinante es distinto de cero."
      ],
      "metadata": {
        "id": "hNry348_xkQh"
      }
    },
    {
      "cell_type": "markdown",
      "source": [
        "---\n",
        "#### Ejercicio 11\n",
        "---"
      ],
      "metadata": {
        "id": "QPelxZs8xrIH"
      }
    },
    {
      "cell_type": "markdown",
      "source": [
        "Calcula el determinante de las matrices usadas en los ejercicios 9 y 10."
      ],
      "metadata": {
        "id": "2a2qcFO-xvJw"
      }
    },
    {
      "cell_type": "code",
      "source": [],
      "metadata": {
        "id": "Z2SMARcKxjKk"
      },
      "execution_count": null,
      "outputs": []
    },
    {
      "cell_type": "markdown",
      "source": [
        "### Matrices booleanas"
      ],
      "metadata": {
        "id": "TwnSZccKx9ES"
      }
    },
    {
      "cell_type": "markdown",
      "source": [
        "---\n",
        "#### Ejercicio 12\n",
        "---"
      ],
      "metadata": {
        "id": "yc6hFi1pyGVg"
      }
    },
    {
      "cell_type": "markdown",
      "source": [
        "Consulta las siguientes definiciones:\n",
        "\n",
        "* Matriz intersección (meet)\n",
        "* Matriz unión (join)\n",
        "* Producto booleano, $A \\odot B$\n",
        "\n",
        "Elabora un ejemplo por cada definición usando NumPy y SymPy.\n",
        "\n"
      ],
      "metadata": {
        "id": "3Njm3OVPyJvm"
      }
    },
    {
      "cell_type": "markdown",
      "source": [
        "**Matriz intersección (meet):**"
      ],
      "metadata": {
        "id": "ujhfoaKX50CX"
      }
    },
    {
      "cell_type": "code",
      "source": [
        "# Ejemplo"
      ],
      "metadata": {
        "id": "e3yxL5MiyFmR"
      },
      "execution_count": null,
      "outputs": []
    },
    {
      "cell_type": "markdown",
      "source": [
        "**Matriz unión (join):**"
      ],
      "metadata": {
        "id": "sl458Iv759IF"
      }
    },
    {
      "cell_type": "code",
      "source": [
        "# Ejemplo"
      ],
      "metadata": {
        "id": "qMb9k1eE59aX"
      },
      "execution_count": null,
      "outputs": []
    },
    {
      "cell_type": "markdown",
      "source": [
        "**Producto booleano, $A \\odot B$:**"
      ],
      "metadata": {
        "id": "PgVtVEWs59oU"
      }
    },
    {
      "cell_type": "code",
      "source": [
        "# Ejemplo"
      ],
      "metadata": {
        "id": "FgT30d9i59xX"
      },
      "execution_count": null,
      "outputs": []
    }
  ]
}